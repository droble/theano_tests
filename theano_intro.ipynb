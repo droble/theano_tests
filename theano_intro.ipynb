{
 "cells": [
  {
   "cell_type": "markdown",
   "metadata": {},
   "source": [
    "# Intro to Theano"
   ]
  },
  {
   "cell_type": "markdown",
   "metadata": {},
   "source": [
    "First example. Create a mathematical expression with a couple of scalars. "
   ]
  },
  {
   "cell_type": "code",
   "execution_count": 67,
   "metadata": {
    "collapsed": true
   },
   "outputs": [],
   "source": [
    "import numpy as np\n",
    "import theano.tensor as T\n",
    "import theano\n",
    "\n",
    "x = T.dscalar( 'x' )\n",
    "y = T.dscalar( 'y' )\n",
    "z = x + y\n",
    "\n",
    "f = theano.function ( [x, y], z )\n"
   ]
  },
  {
   "cell_type": "code",
   "execution_count": 68,
   "metadata": {
    "collapsed": false
   },
   "outputs": [
    {
     "data": {
      "text/plain": [
       "array(5.0)"
      ]
     },
     "execution_count": 68,
     "metadata": {},
     "output_type": "execute_result"
    }
   ],
   "source": [
    "f(2, 3)"
   ]
  },
  {
   "cell_type": "code",
   "execution_count": 69,
   "metadata": {
    "collapsed": false
   },
   "outputs": [
    {
     "data": {
      "text/plain": [
       "array(-4.0)"
      ]
     },
     "execution_count": 69,
     "metadata": {},
     "output_type": "execute_result"
    }
   ],
   "source": [
    "f (-1,-3)"
   ]
  },
  {
   "cell_type": "code",
   "execution_count": null,
   "metadata": {
    "collapsed": false
   },
   "outputs": [],
   "source": [
    "f( 3.4, 5 )"
   ]
  },
  {
   "cell_type": "markdown",
   "metadata": {},
   "source": [
    "The type of a theano variable is always a TensorVariable. But theano is strongly typed. Each variable carries its type and name. "
   ]
  },
  {
   "cell_type": "code",
   "execution_count": null,
   "metadata": {
    "collapsed": false
   },
   "outputs": [],
   "source": [
    "type( x )"
   ]
  },
  {
   "cell_type": "code",
   "execution_count": null,
   "metadata": {
    "collapsed": false
   },
   "outputs": [],
   "source": [
    "x.type"
   ]
  },
  {
   "cell_type": "code",
   "execution_count": null,
   "metadata": {
    "collapsed": false
   },
   "outputs": [],
   "source": [
    "x.name"
   ]
  },
  {
   "cell_type": "markdown",
   "metadata": {},
   "source": [
    "Theano is building a graph of your mathematical expression. Print it out with the pretty print function."
   ]
  },
  {
   "cell_type": "code",
   "execution_count": null,
   "metadata": {
    "collapsed": false
   },
   "outputs": [],
   "source": [
    "print ( theano.pp( z ) )"
   ]
  },
  {
   "cell_type": "markdown",
   "metadata": {},
   "source": [
    "Theano works really well with matrices. "
   ]
  },
  {
   "cell_type": "code",
   "execution_count": null,
   "metadata": {
    "collapsed": true
   },
   "outputs": [],
   "source": [
    "x = T.dmatrix( 'x' )\n",
    "y = T.dmatrix( 'y' )\n",
    "z = x + y\n",
    "\n",
    "f = theano.function( [x, y], z )"
   ]
  },
  {
   "cell_type": "code",
   "execution_count": null,
   "metadata": {
    "collapsed": true
   },
   "outputs": [],
   "source": [
    "na = np.array( [[1, 2], [3,4]] )\n",
    "nb = np.array( [[10, 20], [30, 40]] ) "
   ]
  },
  {
   "cell_type": "code",
   "execution_count": null,
   "metadata": {
    "collapsed": false
   },
   "outputs": [],
   "source": [
    "f( na, nb )"
   ]
  },
  {
   "cell_type": "markdown",
   "metadata": {},
   "source": [
    "Theano has a lot of different types that it supports in integer, floating point and complex variants. "
   ]
  },
  {
   "cell_type": "code",
   "execution_count": null,
   "metadata": {
    "collapsed": true
   },
   "outputs": [],
   "source": [
    "v = T.fvector( 'v' )\n",
    "r = v + v ** 2\n",
    "\n",
    "fv = theano.function( [v], r )"
   ]
  },
  {
   "cell_type": "code",
   "execution_count": null,
   "metadata": {
    "collapsed": false
   },
   "outputs": [],
   "source": [
    "fv ( [1, 3, 5] )"
   ]
  },
  {
   "cell_type": "markdown",
   "metadata": {},
   "source": [
    "A taste of machine learning. The logistic function takes a value and turns it into a 0 to +1 value."
   ]
  },
  {
   "cell_type": "code",
   "execution_count": null,
   "metadata": {
    "collapsed": true
   },
   "outputs": [],
   "source": [
    "x = T.dmatrix( 'x' )\n",
    "s = 1 / ( 1 + T.exp( -x ) )\n",
    "\n",
    "logistic = theano.function( [x], s )"
   ]
  },
  {
   "cell_type": "code",
   "execution_count": null,
   "metadata": {
    "collapsed": false
   },
   "outputs": [],
   "source": [
    "v = np.reshape( np.linspace( -10, 10, 40 ), (1, -1) )\n",
    "lv = logistic( v ) "
   ]
  },
  {
   "cell_type": "code",
   "execution_count": null,
   "metadata": {
    "collapsed": false
   },
   "outputs": [],
   "source": [
    "lv[0]"
   ]
  },
  {
   "cell_type": "code",
   "execution_count": null,
   "metadata": {
    "collapsed": false
   },
   "outputs": [],
   "source": [
    "%matplotlib inline\n",
    "\n",
    "import matplotlib.pyplot as plt\n",
    "\n",
    "plt.plot( v[0], lv[0] )"
   ]
  },
  {
   "cell_type": "markdown",
   "metadata": {},
   "source": [
    "Multiple outputs at the same time. Important for parallel and GPU efficiency. "
   ]
  },
  {
   "cell_type": "code",
   "execution_count": null,
   "metadata": {
    "collapsed": false
   },
   "outputs": [],
   "source": [
    "a, b = T.dmatrices( 'a', 'b' )\n",
    "diff = a - b\n",
    "abs_diff = abs( diff )\n",
    "diff_sqr = diff ** 2\n",
    "\n",
    "f = theano.function( [a, b], [diff, abs_diff, diff_sqr] )"
   ]
  },
  {
   "cell_type": "code",
   "execution_count": null,
   "metadata": {
    "collapsed": false
   },
   "outputs": [],
   "source": [
    "f( [[1, 1],[1, 1]], [[0, 1],[2, 3]] )"
   ]
  },
  {
   "cell_type": "markdown",
   "metadata": {},
   "source": [
    "Up to this point, the math you create is purely functional, it doesn't have a state. But we want state (say, the weights and biases of a neural network) so Theano has shared variables. "
   ]
  },
  {
   "cell_type": "code",
   "execution_count": null,
   "metadata": {
    "collapsed": false
   },
   "outputs": [],
   "source": [
    "state = theano.shared ( 0 )\n",
    "inc = T.iscalar( 'inc' )\n",
    "\n",
    "accum = theano.function( [inc], state, updates=[( state, state + inc ) ] )"
   ]
  },
  {
   "cell_type": "code",
   "execution_count": null,
   "metadata": {
    "collapsed": false
   },
   "outputs": [],
   "source": [
    "print( state.get_value() )"
   ]
  },
  {
   "cell_type": "code",
   "execution_count": null,
   "metadata": {
    "collapsed": false
   },
   "outputs": [],
   "source": [
    "accum( 1 )"
   ]
  },
  {
   "cell_type": "code",
   "execution_count": null,
   "metadata": {
    "collapsed": false
   },
   "outputs": [],
   "source": [
    "print( state.get_value() )"
   ]
  },
  {
   "cell_type": "code",
   "execution_count": null,
   "metadata": {
    "collapsed": false
   },
   "outputs": [],
   "source": [
    "accum( 100 )"
   ]
  },
  {
   "cell_type": "code",
   "execution_count": null,
   "metadata": {
    "collapsed": false
   },
   "outputs": [],
   "source": [
    "print( state.get_value() )"
   ]
  },
  {
   "cell_type": "markdown",
   "metadata": {},
   "source": [
    "Functions can share state. "
   ]
  },
  {
   "cell_type": "code",
   "execution_count": null,
   "metadata": {
    "collapsed": true
   },
   "outputs": [],
   "source": [
    "decrem = theano.function( [inc], state, updates=[ (state, state-inc) ] )"
   ]
  },
  {
   "cell_type": "code",
   "execution_count": null,
   "metadata": {
    "collapsed": false
   },
   "outputs": [],
   "source": [
    "decrem( 10 )"
   ]
  },
  {
   "cell_type": "code",
   "execution_count": null,
   "metadata": {
    "collapsed": false
   },
   "outputs": [],
   "source": [
    "print( state.get_value() )"
   ]
  },
  {
   "cell_type": "markdown",
   "metadata": {},
   "source": [
    "Let's go over a real example. Logistic regression. We've got a whole bunch of data points that are classified as either 0 or 1. The data points are located at an n-dimensional location. (For example, you could have a bunch of cities, identified by their latitude and logitude (2 dimensional data) and each city is classified as 0 if its population is below a million and a 1 if it's bigger than a million.) Can we build a function that give a location, it gives a good estimate if it would be a zero or a one? "
   ]
  },
  {
   "cell_type": "code",
   "execution_count": null,
   "metadata": {
    "collapsed": true
   },
   "outputs": [],
   "source": [
    "import numpy as np\n",
    "import theano \n",
    "import theano.tensor as T \n",
    "\n",
    "rng = np.random\n",
    "\n",
    "# Number of training samples (N) and the dimension of our data (feats).\n",
    "\n",
    "N = 400\n",
    "feats = 9\n",
    "\n",
    "# Randomly generate a dataset. \n",
    "\n",
    "D = ( rng.randn( N, feats), rng.randint( size=N, low=0, high=2) )\n",
    "\n",
    "training_steps = 1000"
   ]
  },
  {
   "cell_type": "code",
   "execution_count": null,
   "metadata": {
    "collapsed": false
   },
   "outputs": [],
   "source": [
    "D"
   ]
  },
  {
   "cell_type": "code",
   "execution_count": 59,
   "metadata": {
    "collapsed": true
   },
   "outputs": [],
   "source": [
    "# Declare Theano variables. \n",
    "\n",
    "x = T.dmatrix( 'x' )\n",
    "y = T.dvector( 'y' )\n",
    "\n",
    "# Create the weight matrix and init it with random values. \n",
    "# The bias matrix gets zeros.\n",
    "\n",
    "w = theano.shared( rng.randn(feats), name='w' )\n",
    "b = theano.shared( 0., name='b' )"
   ]
  },
  {
   "cell_type": "code",
   "execution_count": 60,
   "metadata": {
    "collapsed": false
   },
   "outputs": [
    {
     "name": "stdout",
     "output_type": "stream",
     "text": [
      "[-1.39866461 -0.26545102 -0.3951785  -0.42687478 -0.92044966 -0.97065617\n",
      " -0.15050796 -0.59480097  0.66710357]\n"
     ]
    }
   ],
   "source": [
    "print ( w.get_value() )"
   ]
  },
  {
   "cell_type": "code",
   "execution_count": 61,
   "metadata": {
    "collapsed": false
   },
   "outputs": [
    {
     "name": "stdout",
     "output_type": "stream",
     "text": [
      "0.0\n"
     ]
    }
   ],
   "source": [
    "print ( b.get_value() )"
   ]
  },
  {
   "cell_type": "code",
   "execution_count": 62,
   "metadata": {
    "collapsed": true
   },
   "outputs": [],
   "source": [
    "# Now build the Theano expression for logistic regression. p_1 is the\n",
    "# probability that the location is 1 and then with prediction, we just \n",
    "# threshold it to either 0 or 1. xent is the cross entropy (see how it's\n",
    "# taking the actual value and multiplying it by a exagerated probability?)\n",
    "# Cost is the what we want to minimize. \n",
    "\n",
    "t = T.dot ( x, w ) + b\n",
    "p_1 = 1 / ( 1 + T.exp( -t ) )\n",
    "prediction = p_1 > 0.5 \n",
    "xent = -y * T.log( p_1 ) - ( 1 - y ) * T.log( 1 - p_1 )\n",
    "cost = xent.mean() + 0.01 * (w ** 2 ).sum() \n",
    "\n",
    "dw, db = T.grad( cost, [w, b] )"
   ]
  },
  {
   "cell_type": "markdown",
   "metadata": {
    "collapsed": true
   },
   "source": [
    "Check out dw and db there. We're asking Theano to compute the gradient of the cost function with respect to w and b. i.e. How will the cost function change if I change w? Or b? This is a classic calculus question. Because Theano knows the math behind cost, it can compute it! "
   ]
  },
  {
   "cell_type": "code",
   "execution_count": null,
   "metadata": {
    "collapsed": false
   },
   "outputs": [],
   "source": [
    "theano.pp( cost )"
   ]
  },
  {
   "cell_type": "code",
   "execution_count": null,
   "metadata": {
    "collapsed": false
   },
   "outputs": [],
   "source": [
    "theano.pp( dw )"
   ]
  },
  {
   "cell_type": "code",
   "execution_count": 64,
   "metadata": {
    "collapsed": true
   },
   "outputs": [],
   "source": [
    "# Compile the function. (Note, predict is only used to check our results!)\n",
    "\n",
    "train = theano.function( inputs = [x, y], \n",
    "                          outputs = [prediction, xent], \n",
    "                          updates = ( ( w, w - 0.1 * dw ), \n",
    "                                      ( b, b - 0.1 * db ) ) )\n",
    "\n",
    "predict = theano.function( inputs = [x], outputs = prediction )"
   ]
  },
  {
   "cell_type": "code",
   "execution_count": 65,
   "metadata": {
    "collapsed": false
   },
   "outputs": [],
   "source": [
    "# Train the system! \n",
    "\n",
    "for i in range( training_steps ):\n",
    "    pred, err = train( D[0], D[1] )"
   ]
  },
  {
   "cell_type": "code",
   "execution_count": 66,
   "metadata": {
    "collapsed": false
   },
   "outputs": [
    {
     "name": "stdout",
     "output_type": "stream",
     "text": [
      "Final model:\n",
      "[ 0.08156092 -0.02639158  0.14381415 -0.04273389  0.06809881 -0.06537417\n",
      " -0.01951928  0.05001252  0.19263665]\n",
      "0.193174665467\n",
      "target values for D:\n",
      "[0 1 0 1 0 1 0 0 0 1 1 1 1 1 0 1 0 0 0 1 1 0 0 1 1 0 1 1 0 1 1 0 1 1 1 1 0\n",
      " 1 1 0 1 0 1 1 0 0 1 0 1 0 0 1 1 0 1 1 1 1 0 1 0 1 1 1 1 0 0 0 0 1 0 0 1 0\n",
      " 1 1 1 1 1 0 0 1 1 0 1 1 1 0 1 0 1 1 1 1 0 0 1 1 0 1 0 0 1 0 1 1 1 0 0 0 0\n",
      " 1 0 1 0 1 0 1 0 1 1 1 0 0 1 0 0 0 1 0 1 1 0 0 1 1 0 0 1 1 0 0 0 1 1 1 0 1\n",
      " 1 0 1 1 1 1 1 0 0 1 1 1 1 0 1 0 0 0 0 0 0 1 1 1 0 0 1 0 1 1 1 1 1 1 1 1 1\n",
      " 0 1 1 0 1 0 0 0 1 1 0 0 1 0 1 0 0 0 1 0 1 1 0 1 1 0 0 1 1 0 0 1 1 1 0 1 0\n",
      " 1 0 1 1 1 1 0 1 1 0 1 0 0 1 1 1 0 1 1 1 1 1 1 1 0 1 1 0 1 1 0 1 1 0 1 0 0\n",
      " 0 0 1 0 1 0 0 1 0 1 0 0 1 0 1 1 1 0 1 1 0 0 0 0 0 1 0 1 1 0 0 1 0 1 0 0 0\n",
      " 1 0 0 0 0 1 1 1 0 0 1 1 1 1 1 0 0 0 1 0 0 1 1 0 0 1 0 0 1 1 1 0 1 0 0 1 1\n",
      " 0 1 1 0 0 1 1 1 0 0 0 0 1 1 1 0 0 1 0 0 1 1 0 0 1 0 0 0 0 1 0 0 1 0 1 1 1\n",
      " 0 0 1 1 0 0 1 0 1 1 1 1 0 1 0 1 1 1 1 1 0 1 1 1 0 1 1 0 0 1]\n",
      "prediction on D:\n",
      "[1 1 0 1 0 1 1 1 1 1 1 1 1 1 0 1 1 0 1 0 1 1 1 1 0 1 1 1 0 1 1 0 1 1 1 1 1\n",
      " 1 1 1 1 1 0 0 0 1 1 1 1 1 0 1 1 1 1 1 1 1 1 1 1 1 1 1 1 1 1 1 0 1 1 0 1 0\n",
      " 1 1 1 1 1 1 1 1 1 1 1 0 1 0 1 0 1 1 0 0 1 0 0 1 1 1 0 1 1 1 1 0 1 0 1 0 1\n",
      " 1 0 0 0 1 1 0 1 0 1 1 1 0 1 1 0 0 1 1 1 1 0 1 1 1 0 1 1 1 0 1 1 1 1 1 1 1\n",
      " 1 0 1 1 0 1 0 1 0 1 1 0 1 1 1 0 1 1 1 1 1 1 1 1 1 1 1 1 0 0 0 1 1 1 1 1 0\n",
      " 1 1 1 1 1 1 1 1 0 1 1 1 1 1 1 1 1 0 1 1 1 1 1 1 1 0 1 1 1 1 1 1 1 1 1 1 0\n",
      " 1 1 1 1 1 1 1 1 1 1 1 1 0 1 1 1 1 1 1 1 1 1 1 1 0 0 1 0 1 1 1 1 1 1 1 0 1\n",
      " 1 0 1 0 1 1 1 0 1 0 1 1 1 1 1 0 1 0 1 1 1 1 0 1 1 1 1 1 1 1 1 1 1 1 1 0 0\n",
      " 0 1 1 1 1 1 1 1 0 0 1 0 0 1 1 1 1 1 1 0 0 1 1 0 0 1 1 0 0 0 0 0 1 0 1 1 1\n",
      " 0 1 1 1 1 0 1 1 0 1 1 1 1 1 0 1 1 0 1 1 1 0 0 1 0 1 1 1 1 1 1 1 0 1 0 1 1\n",
      " 1 0 1 1 1 1 1 1 0 1 1 1 1 1 1 0 1 0 1 1 0 1 0 0 1 0 1 0 1 1]\n"
     ]
    }
   ],
   "source": [
    "print( \"Final model:\" )\n",
    "print( w.get_value() )\n",
    "print( b.get_value() )\n",
    "print( \"target values for D:\" )\n",
    "print( D[1] )\n",
    "print( \"prediction on D:\" )\n",
    "print( predict(D[0]) )"
   ]
  },
  {
   "cell_type": "code",
   "execution_count": 100,
   "metadata": {
    "collapsed": true
   },
   "outputs": [],
   "source": [
    "def logisticRegression ( input_values, target_class, training_steps = 10 ) :\n",
    "    \"\"\"Logisitic Regression using Theano\n",
    "    \n",
    "    input_values -- N x features matrix. Each row is a location in \n",
    "    feature-dimensional space. \n",
    "    \n",
    "    target_class -- N element vector, classifying each location \n",
    "    as either 1 or 0. \n",
    "    \"\"\"\n",
    "    \n",
    "    N     = input_values.shape[0]\n",
    "    feats = input_values.shape[1]\n",
    "    \n",
    "    if target_class.shape[0] != N : \n",
    "        raise ValueError ( \"Number of rows in input_values must match number \"\n",
    "        \"of rows in target_class.\" )\n",
    "        \n",
    "    # Declare the symbolic variables. \n",
    "        \n",
    "    x = T.dmatrix( \"x\" ) \n",
    "    y = T.dvector( \"y\" )\n",
    "    \n",
    "    # Initialize the weight vector and the bias. \n",
    "    \n",
    "    w = theano.shared( np.random.randn( feats ), name=\"w\" )\n",
    "    b = theano.shared( 0., name=\"b\" )\n",
    "    \n",
    "    # Construct the Theano expression graph. \n",
    "    \n",
    "    t = T.dot( x, w ) + b\n",
    "    p_1 = 1 / ( 1 + T.exp( -t ) )\n",
    "    \n",
    "    prediction = p_1 > 0.5 \n",
    "    \n",
    "    xent = -y * T.log( p_1 ) - ( 1 - y ) * T.log( 1 - p_1 )\n",
    "    cost = xent.mean() + 0.01 * ( w ** 2 ).sum() \n",
    "    \n",
    "    dw, db = T.grad ( cost, [w, b] )\n",
    "    \n",
    "    # Compile it. \n",
    "    \n",
    "    train = theano.function( inputs = [x, y], \n",
    "                             outputs = [prediction, xent], \n",
    "                             updates = ( ( w, w - 0.1 * dw ), \n",
    "                                         ( b, b - 0.1 * db ) ) )\n",
    "                                         \n",
    "    predict = theano.function( inputs = [x], outputs = prediction )\n",
    "    predict_noclamp = theano.function ( inputs = [x], outputs = p_1 )\n",
    "    \n",
    "    # Train it! \n",
    "    \n",
    "    for i in xrange( training_steps ) : \n",
    "        pred, err = train ( input_values, target_class )\n",
    "        \n",
    "    print( \"Final model:\" )\n",
    "    print( w.get_value() )\n",
    "    print( b.get_value() )\n",
    "    print( \"target values for D:\" )\n",
    "    print( target_class )\n",
    "    print( \"prediction on D:\" )\n",
    "    print( predict( input_values ) )\n",
    "    \n",
    "    return (predict, predict_noclamp)"
   ]
  },
  {
   "cell_type": "code",
   "execution_count": 74,
   "metadata": {
    "collapsed": true
   },
   "outputs": [],
   "source": [
    "# Make some data for the regression. Hours studied vs whether the \n",
    "# student passed or failed. (From the Wikipedia Logistic Regression page.)\n",
    "\n",
    "hours = np.array ( [[0.50,0.75,1.00,1.25,1.50,1.75,1.75,2.00,2.25,2.50,\n",
    "                     2.75,3.00,3.25,3.50,4.00,4.25,4.50,4.75,5.00,5.50]] ).T\n",
    "passfail = np.array ( [0,0,0,0,0,0,1,0,1,0,1,0,1,0,1,1,1,1,1,1] )"
   ]
  },
  {
   "cell_type": "code",
   "execution_count": 79,
   "metadata": {
    "collapsed": false
   },
   "outputs": [
    {
     "data": {
      "image/png": "[encoded data removed]",
      "text/plain": [
       "<matplotlib.figure.Figure at 0x7fa73509cc10>"
      ]
     },
     "metadata": {},
     "output_type": "display_data"
    }
   ],
   "source": [
    "plt.plot ( hours, passfail, 'ro' )\n",
    "plt.gca().set_ylim([-0.25,1.25])\n",
    "plt.show()"
   ]
  },
  {
   "cell_type": "code",
   "execution_count": 101,
   "metadata": {
    "collapsed": false
   },
   "outputs": [
    {
     "name": "stdout",
     "output_type": "stream",
     "text": [
      "Final model:\n",
      "[ 1.2243251]\n",
      "-3.29839387068\n",
      "target values for D:\n",
      "[0 0 0 0 0 0 1 0 1 0 1 0 1 0 1 1 1 1 1 1]\n",
      "prediction on D:\n",
      "[0 0 0 0 0 0 0 0 0 0 1 1 1 1 1 1 1 1 1 1]\n"
     ]
    }
   ],
   "source": [
    "(predict, predict_noclamp) = logisticRegression ( hours, passfail, 1000 )"
   ]
  },
  {
   "cell_type": "code",
   "execution_count": 104,
   "metadata": {
    "collapsed": false
   },
   "outputs": [
    {
     "data": {
      "image/png": "[encoded data removed]",
      "text/plain": [
       "<matplotlib.figure.Figure at 0x7fa7311c1550>"
      ]
     },
     "metadata": {},
     "output_type": "display_data"
    }
   ],
   "source": [
    "hours_hirez = np.reshape( np.linspace( 0, 6, 100 ), (-1, 1) )\n",
    "plt.plot ( hours, passfail, 'ro', \n",
    "           hours_hirez, predict_noclamp( hours_hirez), \"g-\", \n",
    "           hours_hirez, predict (hours_hirez) )\n",
    "plt.gca().set_ylim([-0.25,1.25])\n",
    "plt.show()"
   ]
  },
  {
   "cell_type": "code",
   "execution_count": null,
   "metadata": {
    "collapsed": true
   },
   "outputs": [],
   "source": []
  }
 ],
 "metadata": {
  "kernelspec": {
   "display_name": "Python 2",
   "language": "python",
   "name": "python2"
  },
  "language_info": {
   "codemirror_mode": {
    "name": "ipython",
    "version": 2
   },
   "file_extension": ".py",
   "mimetype": "text/x-python",
   "name": "python",
   "nbconvert_exporter": "python",
   "pygments_lexer": "ipython2",
   "version": "2.7.11"
  }
 },
 "nbformat": 4,
 "nbformat_minor": 2
}
